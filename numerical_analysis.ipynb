{
 "cells": [
  {
   "cell_type": "markdown",
   "metadata": {},
   "source": [
    "# Numerical Analysis with Python Programming"
   ]
  },
  {
   "cell_type": "markdown",
   "metadata": {},
   "source": [
    "Created by Ted Yap on November 13, 2018"
   ]
  },
  {
   "cell_type": "code",
   "execution_count": 94,
   "metadata": {},
   "outputs": [],
   "source": [
    "import math\n",
    "import numpy"
   ]
  },
  {
   "cell_type": "markdown",
   "metadata": {},
   "source": [
    "# Solutions of Equations in One Variable"
   ]
  },
  {
   "cell_type": "markdown",
   "metadata": {},
   "source": [
    "## Bisection Method\n",
    "\n",
    "To find a solution to $f(x) = 0$ given the continuous function $f$ on the interval $[a,b]$, where $f(a)$ and $f(b)$ have opposite signs"
   ]
  },
  {
   "cell_type": "code",
   "execution_count": 193,
   "metadata": {},
   "outputs": [],
   "source": [
    "def Bisection(a,b,delta):\n",
    "    \"\"\"\n",
    "    INPUT:\n",
    "        a, b - endpoints\n",
    "        delta - tolerance\n",
    "    OUTPUT:\n",
    "        approximate solution p at iteration n\n",
    "    \"\"\"\n",
    "    max_iter = 1 + math.floor((math.log(b-a)-math.log(delta))/math.log(2))\n",
    "    k = 1\n",
    "    dx = b-a\n",
    "    print(\"a = \", a)\n",
    "    print(\"b = \", b)\n",
    "    if f(a)*f(b) > 0:\n",
    "        print(\"No root found.\")\n",
    "    else:\n",
    "        while ((b-a)/2.0 > delta) and (k < max_iter):\n",
    "            midpoint = (a+b)/2.0\n",
    "            print(\"k = \",k,\"\\t c = \", midpoint,\"\\t\\t |dc| <= \",dx)\n",
    "            if f(midpoint) == 0:\n",
    "                return(midpoint)\n",
    "            elif f(a)*f(midpoint) < 0:\n",
    "                b = midpoint\n",
    "            else:\n",
    "                a = midpoint\n",
    "            dx = b-a\n",
    "            k += 1\n",
    "        print(\"k = \",k,\"\\t c = \", midpoint,\"\\t\\t |dc| <= \",dx)\n",
    "        print(\"solution: \",midpoint)\n",
    "        print(\"iteration executed: \",k)"
   ]
  },
  {
   "cell_type": "code",
   "execution_count": 8,
   "metadata": {},
   "outputs": [],
   "source": [
    "f = lambda x: x**3-7*x**2+14*x-6"
   ]
  },
  {
   "cell_type": "code",
   "execution_count": 9,
   "metadata": {},
   "outputs": [
    {
     "name": "stdout",
     "output_type": "stream",
     "text": [
      "a =  0\n",
      "b =  1\n",
      "k =  1 \t c =  0.5 \t\t |dc| <=  1\n",
      "k =  2 \t c =  0.75 \t\t |dc| <=  0.5\n",
      "k =  3 \t c =  0.625 \t\t |dc| <=  0.25\n",
      "k =  4 \t c =  0.5625 \t\t |dc| <=  0.125\n",
      "k =  5 \t c =  0.59375 \t\t |dc| <=  0.0625\n",
      "k =  6 \t c =  0.578125 \t\t |dc| <=  0.03125\n",
      "k =  7 \t c =  0.578125 \t\t |dc| <=  0.015625\n",
      "solution:  0.578125\n",
      "iteration executed:  7\n"
     ]
    }
   ],
   "source": [
    "Bisection(0,1,10**-2)"
   ]
  },
  {
   "cell_type": "markdown",
   "metadata": {},
   "source": [
    "## Fixed-Point Iteration\n",
    "\n",
    "To find a solution $p=g(p)$ given an initial approximation $p_0$"
   ]
  },
  {
   "cell_type": "code",
   "execution_count": 76,
   "metadata": {},
   "outputs": [],
   "source": [
    "def Fixed_Point(p_0,delta,n):\n",
    "    \"\"\"\n",
    "    INPUT:\n",
    "        p_0 - initial approximation\n",
    "        delta - tolerance\n",
    "        n - maximum number of iterations\n",
    "    OUTPUT:\n",
    "        approximate solution p at iteration n\n",
    "    \"\"\"\n",
    "    i = 1\n",
    "    print(\"n   p\")\n",
    "    print(\"{:<3} {:<10.9f}\".format(0,p_0))\n",
    "    while i <= n:\n",
    "        p = g(p_0)\n",
    "        print(\"{:<3} {:<10.9f}\".format(i,p))\n",
    "        if abs(p - p_0) < delta:\n",
    "            print(\"{:<3} {:<10.9f}\".format(i+1,p))\n",
    "            return\n",
    "        i += 1\n",
    "        p_0 = p\n",
    "    print(\"Method failed after {} iterations\".format(n))"
   ]
  },
  {
   "cell_type": "code",
   "execution_count": 77,
   "metadata": {},
   "outputs": [],
   "source": [
    "g = lambda x: ((10-x**3)**0.5)/2"
   ]
  },
  {
   "cell_type": "code",
   "execution_count": 78,
   "metadata": {},
   "outputs": [
    {
     "name": "stdout",
     "output_type": "stream",
     "text": [
      "n   p\n",
      "0   1.500000000\n",
      "1   1.286953768\n",
      "2   1.402540804\n",
      "3   1.345458374\n",
      "4   1.375170253\n",
      "5   1.360094193\n",
      "6   1.367846968\n",
      "7   1.367846968\n"
     ]
    }
   ],
   "source": [
    "Fixed_Point(1.5,0.01,30)"
   ]
  },
  {
   "cell_type": "markdown",
   "metadata": {},
   "source": [
    "## Newton's Method\n",
    "\n",
    "To find a solution to $f(x) = 0$ given an initial approximation $p_0$"
   ]
  },
  {
   "cell_type": "code",
   "execution_count": null,
   "metadata": {},
   "outputs": [],
   "source": [
    "def Newton(p_0,delta,n):\n",
    "    \n",
    "    i = 1\n",
    "    while i <= n:\n",
    "        p = p_0 - f(p_0)/\n",
    "        if abs(p - p_0) < delta:\n",
    "            print\n",
    "            return\n",
    "        i += 1\n",
    "        p_0 = p\n",
    "    print(\"Method failed after {} iterations\".format(n))"
   ]
  },
  {
   "cell_type": "markdown",
   "metadata": {},
   "source": [
    "## Secant Method\n",
    "\n",
    "To find a solution to $f(x) = 0$ given an initial approximation $p_0$ when $f'(x)$ is hard to find. An approximation to Newton's method."
   ]
  },
  {
   "cell_type": "code",
   "execution_count": 192,
   "metadata": {},
   "outputs": [],
   "source": [
    "def Secant_Method(p0,p1,n):\n",
    "    \"\"\"\n",
    "    INPUT:\n",
    "        p0, p1 - initial approximations\n",
    "        n - maximum number of iterations\n",
    "    OUTPUT:\n",
    "        approximate solution p at iteration n\n",
    "    \"\"\"\n",
    "    k = 1\n",
    "    q0 = f(p0)\n",
    "    q1 = f(p1)\n",
    "    print(\"p at iteration\", 0, \"is\", p0)\n",
    "    print(\"p at iteration\", 1, \"is\", p1)\n",
    "    for i in range(n):\n",
    "        p = p1 - (q1*(p1-p0))/(q1-q0)\n",
    "        k += 1\n",
    "        print(\"p at iteration\", k, \"is\", p)\n",
    "        p0 = p1\n",
    "        q0 = q1\n",
    "        p1 = p\n",
    "        q1 = f(p)"
   ]
  },
  {
   "cell_type": "code",
   "execution_count": 82,
   "metadata": {},
   "outputs": [],
   "source": [
    "f = lambda x: x**2-6"
   ]
  },
  {
   "cell_type": "code",
   "execution_count": 83,
   "metadata": {},
   "outputs": [
    {
     "name": "stdout",
     "output_type": "stream",
     "text": [
      "p at iteration 0 is 3\n",
      "p at iteration 1 is 2\n",
      "p at iteration 2 is 2.4\n",
      "p at iteration 3 is 2.4545454545454546\n",
      "p at iteration 4 is 2.449438202247191\n",
      "p at iteration 5 is 2.44948968964799\n",
      "p at iteration 6 is 2.449489742783737\n"
     ]
    }
   ],
   "source": [
    "Secant_Method(3,2,5)"
   ]
  },
  {
   "cell_type": "markdown",
   "metadata": {},
   "source": [
    "## False Position Method\n",
    "\n",
    "To find a solution to $f(x) = 0$ given the continuous function $f$ on the interval $[p_0,p_1]$ where $f(p_0)$ and $f(p_1)$ have opposite signs"
   ]
  },
  {
   "cell_type": "code",
   "execution_count": 191,
   "metadata": {},
   "outputs": [],
   "source": [
    "def False_Position(p0,p1,n):\n",
    "    \"\"\"\n",
    "    INPUT:\n",
    "        p0, p1 - initial approximations\n",
    "        n - maximum number of iterations\n",
    "    OUTPUT:\n",
    "        approximate solution p at iteration n\n",
    "    \"\"\"\n",
    "    k = 1\n",
    "    q0 = f(p0)\n",
    "    q1 = f(p1)\n",
    "    print(\"p at iteration\", 0, \"is\", p0)\n",
    "    print(\"p at iteration\", 1, \"is\", p1)\n",
    "    for i in range(n):\n",
    "        p = p1 - (q1*(p1-p0))/(q1-q0)\n",
    "        k += 1\n",
    "        print(\"p at iteration\", k, \"is\", p)\n",
    "        q = f(p)\n",
    "        if q*q1 < 0:\n",
    "            p0 = p1\n",
    "            q0 = q1\n",
    "        p1 = p\n",
    "        q1 = f(p)"
   ]
  },
  {
   "cell_type": "code",
   "execution_count": 84,
   "metadata": {},
   "outputs": [
    {
     "name": "stdout",
     "output_type": "stream",
     "text": [
      "p at iteration 0 is 3\n",
      "p at iteration 1 is 2\n",
      "p at iteration 2 is 2.4\n",
      "p at iteration 3 is 2.444444444444444\n",
      "p at iteration 4 is 2.4489795918367347\n",
      "p at iteration 5 is 2.449438202247191\n",
      "p at iteration 6 is 2.4494845360824744\n"
     ]
    }
   ],
   "source": [
    "False_Position(3,2,5)"
   ]
  },
  {
   "cell_type": "markdown",
   "metadata": {},
   "source": [
    "## Aitken's Method\n",
    "\n",
    "A technique that can be used to accelerate the convergence of a sequence that is linearly convergent"
   ]
  },
  {
   "cell_type": "code",
   "execution_count": 85,
   "metadata": {},
   "outputs": [],
   "source": [
    "def Aitken(p0,n):\n",
    "    \"\"\"\n",
    "    INPUT:\n",
    "        p0 - initial approximation \n",
    "        n - maximum number of iterations\n",
    "    OUTPUT:\n",
    "        approximate solution p at iteration n\n",
    "    \"\"\"\n",
    "    k = 0\n",
    "    for i in range(n):\n",
    "        p1 = f(p0)\n",
    "        p2 = f(p1)\n",
    "        p = p0 - ((p1 - p0)**2)/(p2 - 2*p1 + p0)\n",
    "        print(\"p at iteration\", k, \"is\", p)\n",
    "        k += 1\n",
    "        p0 = p1"
   ]
  },
  {
   "cell_type": "code",
   "execution_count": 86,
   "metadata": {},
   "outputs": [],
   "source": [
    "f = lambda x: (2 - math.exp(x) + x**2)/3"
   ]
  },
  {
   "cell_type": "code",
   "execution_count": 87,
   "metadata": {},
   "outputs": [
    {
     "name": "stdout",
     "output_type": "stream",
     "text": [
      "p at iteration 0 is 0.2586844275657909\n",
      "p at iteration 1 is 0.2576132107157495\n",
      "p at iteration 2 is 0.25753583232666766\n",
      "p at iteration 3 is 0.2575306600010322\n",
      "p at iteration 4 is 0.25753031065960186\n"
     ]
    }
   ],
   "source": [
    "Aitken(0.5,5)"
   ]
  },
  {
   "cell_type": "markdown",
   "metadata": {},
   "source": [
    "## Steffensen's Method\n",
    "\n",
    "A technique used to accelerate the convergence to quadratic by appying a modification of Aitken's method."
   ]
  },
  {
   "cell_type": "code",
   "execution_count": 88,
   "metadata": {},
   "outputs": [],
   "source": [
    "def Steffensen(p0,n):\n",
    "    \"\"\"\n",
    "    INPUT:\n",
    "        p0 - initial approximation \n",
    "        n - maximum number of iterations\n",
    "    OUTPUT:\n",
    "        approximate solution p at iteration n\n",
    "    \"\"\"\n",
    "    k = 0\n",
    "    for i in range(n):\n",
    "        p1 = f(p0)\n",
    "        p2 = f(p1)\n",
    "        p = p0 - ((p1 - p0)**2)/(p2 - 2*p1 + p0)\n",
    "        print(\"p at iteration\", k, \"is\", p)\n",
    "        k += 1\n",
    "        p0 = p"
   ]
  },
  {
   "cell_type": "code",
   "execution_count": 91,
   "metadata": {},
   "outputs": [],
   "source": [
    "f = lambda x: math.cos(x-1)"
   ]
  },
  {
   "cell_type": "code",
   "execution_count": 92,
   "metadata": {},
   "outputs": [
    {
     "name": "stdout",
     "output_type": "stream",
     "text": [
      "p at iteration 0 is 0.8264273956775894\n",
      "p at iteration 1 is 1.0014354914634551\n",
      "p at iteration 2 is 0.999999999261024\n",
      "p at iteration 3 is 1.0\n"
     ]
    }
   ],
   "source": [
    "Steffensen(2,4)"
   ]
  },
  {
   "cell_type": "markdown",
   "metadata": {},
   "source": [
    "# Interpolation and Polynomial Approximation"
   ]
  },
  {
   "cell_type": "markdown",
   "metadata": {},
   "source": [
    "## Lagrange Polynomial with Neville's Iterated Interpolation\n",
    "\n",
    "To evaluate the interpolating polynomial $P(x)$ on the $n + 1$ distinct numbers $x_0,...x_n$ at the number $x$ for the function $f$"
   ]
  },
  {
   "cell_type": "code",
   "execution_count": 232,
   "metadata": {},
   "outputs": [],
   "source": [
    "def Neville(x,xlist):\n",
    "    \"\"\"\n",
    "    INPUT:\n",
    "        x - value of x to find f(x) at\n",
    "        xlist - list of x_0,...,x_n\n",
    "    OUTPUT:\n",
    "        numpy array -  two-dimensional array of function values.\n",
    "        The [n,n] value of this array should be the\n",
    "        most accurate estimate of f(x)\n",
    "    \"\"\"\n",
    "    n = len(xlist)\n",
    "    q = numpy.zeros(shape=(n,n))\n",
    "    for r in range(n):\n",
    "        q[r][0] = f(xlist[r])\n",
    "    for i in range(1,n):\n",
    "        for j in range(1,i+1):\n",
    "            q[i][j] = ((x-xlist[i-j])*(q[i][j-1])-(x-xlist[i])*(q[i-1][j-1]))/(xlist[i]-xlist[i-j])\n",
    "    print(q)"
   ]
  },
  {
   "cell_type": "code",
   "execution_count": 233,
   "metadata": {},
   "outputs": [],
   "source": [
    "f = lambda x: math.cos(x)"
   ]
  },
  {
   "cell_type": "code",
   "execution_count": 234,
   "metadata": {},
   "outputs": [
    {
     "name": "stdout",
     "output_type": "stream",
     "text": [
      "[[1.         0.         0.        ]\n",
      " [0.82533561 0.86900171 0.        ]\n",
      " [0.62160997 0.92719844 0.89810007]]\n"
     ]
    }
   ],
   "source": [
    "Neville(0.45,[0,0.6,0.9])"
   ]
  },
  {
   "cell_type": "code",
   "execution_count": 231,
   "metadata": {},
   "outputs": [
    {
     "data": {
      "text/plain": [
       "0.0023471023526768775"
      ]
     },
     "execution_count": 231,
     "metadata": {},
     "output_type": "execute_result"
    }
   ],
   "source": [
    "#absolute error\n",
    "abs_error = abs(math.cos(0.45)-0.8981)\n",
    "abs_error"
   ]
  },
  {
   "cell_type": "markdown",
   "metadata": {},
   "source": [
    "## Newtons's Divided-Difference\n",
    "\n",
    "To obtain the divided-difference coefficients of the interpolatory polynomial $P(x)$ on the $n+1$ distinct numbers $x_0,...x_n$ at the number $x$ for the function $f$"
   ]
  },
  {
   "cell_type": "code",
   "execution_count": 237,
   "metadata": {},
   "outputs": [],
   "source": [
    "def NewtonDD(xlist,ylist):\n",
    "    \"\"\"\n",
    "    INPUT:\n",
    "        xlist - list of x_0,...,x_n\n",
    "        ylist - list of f(x_0),...f(x_n)\n",
    "    OUTPUT:\n",
    "        numpy array -  two-dimensional array of divided-difference coefficients.\n",
    "        F[i,i] = f[x_0,x_1,...,x_i]\n",
    "    \"\"\"\n",
    "    n = len(xlist)\n",
    "    F = numpy.zeros(shape=(n,n))\n",
    "    for m in range(n):\n",
    "        F[m][0] = ylist[m]\n",
    "    for i in range(1,n):\n",
    "        for j in range(1,i+1):\n",
    "            F[i][j] = (F[i][j-1] - F[i-1][j-1]) / (xlist[i] - xlist[i-j])\n",
    "    print(F)"
   ]
  },
  {
   "cell_type": "code",
   "execution_count": 238,
   "metadata": {},
   "outputs": [
    {
     "name": "stdout",
     "output_type": "stream",
     "text": [
      "[[ 0.7651977   0.          0.          0.          0.        ]\n",
      " [ 0.620086   -0.48370567  0.          0.          0.        ]\n",
      " [ 0.4554022  -0.548946   -0.10873389  0.          0.        ]\n",
      " [ 0.2818186  -0.578612   -0.04944333  0.0658784   0.        ]\n",
      " [ 0.1103623  -0.571521    0.01181833  0.06806852  0.0018251 ]]\n"
     ]
    }
   ],
   "source": [
    "NewtonDD([1.0,1.3,1.6,1.9,2.2],[0.7651977,0.6200860,0.4554022,0.2818186,0.1103623])"
   ]
  },
  {
   "cell_type": "markdown",
   "metadata": {},
   "source": [
    "## Hermite Interpolation\n",
    "\n",
    "To obtain the coefficients of the Hermite interpolating polynomial $H(x)$ on the $n+1$ distinct numbers $x_0,...x_n$ at the number $x$ for the function $f$"
   ]
  },
  {
   "cell_type": "code",
   "execution_count": 265,
   "metadata": {},
   "outputs": [],
   "source": [
    "def Hermite(xlist,ylist,derivativelist):\n",
    "    \"\"\"\n",
    "    INPUT:\n",
    "        xlist - numbers x_0,...,x_n\n",
    "        ylist - values f(x_0),...,f(x_n)\n",
    "        derivativelist - vaues f'(x_0),...,f'(x_n)\n",
    "    OUTPUT:\n",
    "        numpy array -  two-dimensional array of the coefficients of the Hermite interpolating polynomial\n",
    "    \"\"\"\n",
    "    numpy.set_printoptions(precision=8,suppress=True)\n",
    "    n = len(xlist)\n",
    "    Q = numpy.zeros(shape=(2*n,2*n))\n",
    "    z = numpy.zeros(shape=2*n+1)\n",
    "    for i in range(0,n):\n",
    "        z[2*i] = xlist[i]\n",
    "        z[2*i+1] = xlist[i]\n",
    "        Q[2*i][0] = ylist[i]\n",
    "        Q[2*i+1][0] = ylist[i]\n",
    "        Q[2*i+1][1] = derivativelist[i]\n",
    "        if i != 0:\n",
    "            Q[2*i][1] = (Q[2*i][0]-Q[2*i-1][0]) / (z[2*i]-z[2*i-1])\n",
    "            \n",
    "    for i in range(2,2*n):\n",
    "        for j in range(2,i+1):\n",
    "            Q[i][j] = (Q[i][j-1]-Q[i-1][j-1]) / (z[i]-z[i-j])\n",
    "    return Q"
   ]
  },
  {
   "cell_type": "code",
   "execution_count": 266,
   "metadata": {},
   "outputs": [
    {
     "data": {
      "text/plain": [
       "array([[17.56492   ,  0.        ,  0.        ,  0.        ],\n",
       "       [17.56492   ,  3.116256  ,  0.        ,  0.        ],\n",
       "       [18.50515   ,  3.1341    ,  0.05948   ,  0.        ],\n",
       "       [18.50515   ,  3.151762  ,  0.05887333, -0.00202222]])"
      ]
     },
     "execution_count": 266,
     "metadata": {},
     "output_type": "execute_result"
    }
   ],
   "source": [
    "Hermite([8.3,8.6],[17.56492,18.50515],[3.116256,3.151762])"
   ]
  },
  {
   "cell_type": "markdown",
   "metadata": {},
   "source": [
    "## Natural Cubic Spline\n",
    "\n",
    "To construct the cubic spline interpolant $S$ for the function $f$, defined at the numbers $x_0 < x_1 < ... < x_n$, satisfying $S''(x_0)=S''(x_n)=0$"
   ]
  },
  {
   "cell_type": "code",
   "execution_count": null,
   "metadata": {},
   "outputs": [],
   "source": [
    "def Cubic_Spline(xlist,ylist):\n",
    "    \"\"\"\n",
    "    INPUT:\n",
    "        xlist - numbers x_0,...,x_n\n",
    "        ylist - values f(x_0),...,f(x_n)\n",
    "    OUTPUT:\n",
    "        numpy array -  two-dimensional array of the coefficients of the Hermite interpolating polynomial\n",
    "    \"\"\"\n",
    "    n = len(xlist)\n",
    "    a = numpy.zeros(shape=n)\n",
    "    h = numpy.zeros(shape=n-1)\n",
    "    for i in range(n):\n",
    "        a[i] = ylist[i]\n",
    "    for i in range(n-1):\n",
    "        h[i] = xlist[i+1]-x[i]\n",
    "    for i in range(1,n-1):\n",
    "        \n",
    "        "
   ]
  },
  {
   "cell_type": "markdown",
   "metadata": {},
   "source": [
    "# Numerical Differentiation and Integration"
   ]
  },
  {
   "cell_type": "markdown",
   "metadata": {},
   "source": [
    "## Richard's Extrapolation\n",
    "\n",
    "To approximate $f'(x)$ at a particular $x$."
   ]
  },
  {
   "cell_type": "code",
   "execution_count": 181,
   "metadata": {},
   "outputs": [],
   "source": [
    "def Richardson(x,n,h):\n",
    "    \"\"\"\n",
    "    INPUT:\n",
    "    x - value of x to find derivative at\n",
    "    n - number of levels of extrapolation\n",
    "    h - initial stepsize\n",
    "\n",
    "    OUTPUT:\n",
    "        numpy array -  two-dimensional array of extrapolation values.\n",
    "        The [n,n] value of this array should be the\n",
    "        most accurate estimate of f'(x)\n",
    "    \"\"\"\n",
    "    N = numpy.zeros(shape=(n+1,n+1))\n",
    "    for i in range(n+1):\n",
    "        N[i,0] = 0.5 * (f(x+h)-f(x-h))/h\n",
    "        powerOf4 = 1\n",
    "        for j in range(1,i+1):\n",
    "            powerOf4 = 4 * powerOf4\n",
    "            N[i][j] = N[i][j-1] + (N[i][j-1] - N[i-1][j-1] ) / (powerOf4 - 1)\n",
    "        h = 0.5 * h\n",
    "    return N"
   ]
  },
  {
   "cell_type": "code",
   "execution_count": 182,
   "metadata": {},
   "outputs": [],
   "source": [
    "f = lambda x: math.log(x)"
   ]
  },
  {
   "cell_type": "code",
   "execution_count": 183,
   "metadata": {},
   "outputs": [
    {
     "data": {
      "text/plain": [
       "array([[1.05912233, 0.        , 0.        , 0.        ],\n",
       "       [1.01366277, 0.99850959, 0.        , 0.        ],\n",
       "       [1.00335348, 0.99991705, 1.00001088, 0.        ],\n",
       "       [1.00083459, 0.99999495, 1.00000015, 0.99999998]])"
      ]
     },
     "execution_count": 183,
     "metadata": {},
     "output_type": "execute_result"
    }
   ],
   "source": [
    "Richardson(1.0,3,0.4)"
   ]
  },
  {
   "cell_type": "markdown",
   "metadata": {},
   "source": [
    "## Composite Simpson's Rule\n",
    "\n",
    "To approximate the integral $I = \\int_{a}^{b} f(x) dx$"
   ]
  },
  {
   "cell_type": "code",
   "execution_count": 184,
   "metadata": {},
   "outputs": [],
   "source": [
    "def Composite_Simpson(a,b,n):\n",
    "    \"\"\"\n",
    "    INPUT:\n",
    "        endpoints a, b\n",
    "        even positive integer n\n",
    "    OUTPUT:\n",
    "        approximation XI to I \n",
    "    \"\"\"\n",
    "    h = (b - a)/n\n",
    "    I_0 = f(a) + f(b)\n",
    "    I_1 = 0\n",
    "    I_2 = 0\n",
    "    for i in range(1,n):\n",
    "        X = a + i*h\n",
    "        if i%2 == 0:\n",
    "            I_2 = I_2 + f(X)\n",
    "        else:\n",
    "            I_1 = I_1 + f(X)\n",
    "    XI = (h/3)*(I_0 + 2*I_2 + 4*I_1)\n",
    "    return XI"
   ]
  },
  {
   "cell_type": "code",
   "execution_count": 185,
   "metadata": {},
   "outputs": [],
   "source": [
    "f = lambda x: x*math.log(x)"
   ]
  },
  {
   "cell_type": "code",
   "execution_count": 186,
   "metadata": {},
   "outputs": [
    {
     "data": {
      "text/plain": [
       "0.6363098297969492"
      ]
     },
     "execution_count": 186,
     "metadata": {},
     "output_type": "execute_result"
    }
   ],
   "source": [
    "Composite_Simpson(1,2,4)"
   ]
  },
  {
   "cell_type": "markdown",
   "metadata": {},
   "source": [
    "## Romberg Integration\n",
    "\n",
    "To approximate the integral $I = \\int_{a}^{b} f(x) dx$, select an integer $n > 0$"
   ]
  },
  {
   "cell_type": "code",
   "execution_count": 187,
   "metadata": {},
   "outputs": [],
   "source": [
    "def Romberg(a,b,n):\n",
    "    \"\"\"\n",
    "    INPUT:\n",
    "    endpoints a, b\n",
    "    integer n\n",
    "    OUTPUT:\n",
    "        numpy array -  two-dimensional array of integral values.\n",
    "        The [n,n] value of this array should be the\n",
    "        most accurate estimate of I\n",
    "    \"\"\"\n",
    "    h = b - a\n",
    "    R = numpy.zeros(shape=(n+1,n+1))\n",
    "    R[0][0] = (h/2)*(f(a)+f(b))\n",
    "    powerOf2 = 1\n",
    "    for i in range(1,n+1):\n",
    "        h = 0.5 * h\n",
    "        total = 0.0\n",
    "        powerOf2 = 2 * powerOf2\n",
    "        for k in range(1,powerOf2,2):\n",
    "            total = total + f(a+k*h)\n",
    "        R[i][0] = 0.5 * R[i-1][0] + total * h\n",
    "        powerOf4 = 1\n",
    "        for j in range(1,i+1):\n",
    "            powerOf4 = 4 * powerOf4\n",
    "            R[i][j] = R[i][j-1] + (R[i][j-1] - R[i-1][j-1]) / (powerOf4 - 1)\n",
    "    print(R)"
   ]
  },
  {
   "cell_type": "code",
   "execution_count": 188,
   "metadata": {},
   "outputs": [],
   "source": [
    "f = lambda x: math.sin(x)"
   ]
  },
  {
   "cell_type": "code",
   "execution_count": 189,
   "metadata": {},
   "outputs": [
    {
     "name": "stdout",
     "output_type": "stream",
     "text": [
      "[[1.92367069e-16 0.00000000e+00 0.00000000e+00 0.00000000e+00]\n",
      " [1.57079633e+00 2.09439510e+00 0.00000000e+00 0.00000000e+00]\n",
      " [1.89611890e+00 2.00455975e+00 1.99857073e+00 0.00000000e+00]\n",
      " [1.97423160e+00 2.00026917e+00 1.99998313e+00 2.00000555e+00]]\n"
     ]
    }
   ],
   "source": [
    "Romberg(0,math.pi,3)"
   ]
  },
  {
   "cell_type": "markdown",
   "metadata": {},
   "source": [
    "## Simpson's Double Intergral\n",
    "\n",
    "To approximate the integral $I = \\int^{b}_{a} \\int^{d(x)}_{c(x)} \\ f(x,y) \\ dy \\ dx$"
   ]
  },
  {
   "cell_type": "code",
   "execution_count": 202,
   "metadata": {},
   "outputs": [],
   "source": [
    "def Simpson_Double(a,b,m,n):\n",
    "    \"\"\"\n",
    "    INPUT:\n",
    "        a, b - endpoints\n",
    "        m, n - even positive integers for the number of intervals\n",
    "    OUTPUT:\n",
    "        approximation J to I\n",
    "    \"\"\"\n",
    "    h = (b-a)/n\n",
    "    J1 = 0\n",
    "    J2 = 0\n",
    "    J3 = 0\n",
    "    for i in range(n+1):\n",
    "        x = a + i*h\n",
    "        HX = (d(x)-c(x))/m\n",
    "        K1 = f(x,c(x)) + f(x,d(x))\n",
    "        K2 = 0\n",
    "        K3 = 0\n",
    "        for j in range(1,m):\n",
    "            y = c(x) + j*HX\n",
    "            Q = f(x,y)\n",
    "            if j%2 == 0:\n",
    "                K2 = K2 + Q\n",
    "            else:\n",
    "                K3 = K3 + Q\n",
    "        L = (K1 + 2*K2 + 4*K3)*HX/3\n",
    "        if i == 0 or i == n:\n",
    "            J1 = J1 + L\n",
    "        elif i%2 == 0:\n",
    "            J2 = J2 + L\n",
    "        else:\n",
    "            J3 = J3 + L\n",
    "    J = (h/3)*(J1 + 2*J2 + 4*J3)\n",
    "    return J"
   ]
  },
  {
   "cell_type": "code",
   "execution_count": 205,
   "metadata": {},
   "outputs": [],
   "source": [
    "f = lambda x, y: math.exp(y/x)\n",
    "d = lambda x: x**2\n",
    "c = lambda x: x**3"
   ]
  },
  {
   "cell_type": "code",
   "execution_count": 206,
   "metadata": {},
   "outputs": [
    {
     "data": {
      "text/plain": [
       "0.033305461281902184"
      ]
     },
     "execution_count": 206,
     "metadata": {},
     "output_type": "execute_result"
    }
   ],
   "source": [
    "Simpson_Double(0.1,0.5,10,10)"
   ]
  },
  {
   "cell_type": "markdown",
   "metadata": {},
   "source": [
    "# Initial-Value Problems for Ordinary Differential Equations"
   ]
  },
  {
   "cell_type": "markdown",
   "metadata": {},
   "source": [
    "## Euler's Method\n",
    "\n",
    "To approximate the solution of the initial-value problem \n",
    "\n",
    "$y'=f(t,y), \\ a \\leq t \\leq b, \\ y(a)= \\alpha,$\n",
    "\n",
    "at $n + 1$ equally spaced numbers in the interval $[a,b]$"
   ]
  },
  {
   "cell_type": "code",
   "execution_count": 178,
   "metadata": {},
   "outputs": [],
   "source": [
    "def Euler(a,b,n,alpha):\n",
    "    \"\"\"\n",
    "    INPUT:\n",
    "        endpoints a, b\n",
    "        number of intervals n\n",
    "        initial condition alpha\n",
    "    \n",
    "    OUTPUT:\n",
    "        approximation w to y at n+1 values of t\n",
    "    \"\"\"\n",
    "    h = (b - a)/n\n",
    "    t = a\n",
    "    w = alpha\n",
    "    for i in range(1,n+1):\n",
    "        w = w + h*f(t,w)\n",
    "        t = a + i*h\n",
    "    return [t,w]"
   ]
  },
  {
   "cell_type": "code",
   "execution_count": 179,
   "metadata": {},
   "outputs": [],
   "source": [
    "f = lambda t,y: y-t**2+1"
   ]
  },
  {
   "cell_type": "code",
   "execution_count": 180,
   "metadata": {},
   "outputs": [
    {
     "data": {
      "text/plain": [
       "[2.0, 4.865784504320001]"
      ]
     },
     "execution_count": 180,
     "metadata": {},
     "output_type": "execute_result"
    }
   ],
   "source": [
    "Euler(0,2,10,0.5)"
   ]
  },
  {
   "cell_type": "markdown",
   "metadata": {},
   "source": [
    "For Higher-Order Taylor Methods, we will need a way to compute $\\ f^{(n - 1)}$ derivatives. However, computation of $\\ f^{(n - 1)}$ derivatives is not required in the Runge-Kutta methods"
   ]
  },
  {
   "cell_type": "code",
   "execution_count": 270,
   "metadata": {},
   "outputs": [],
   "source": [
    "def RungeKuttaMidpoint(a,b,n,alpha):\n",
    "    \"\"\"\n",
    "    INPUT:\n",
    "        endpoints a, b\n",
    "        number of intervals n\n",
    "        initial condition alpha\n",
    "    \n",
    "    OUTPUT:\n",
    "        approximation w to y at n+1 values of t\n",
    "    \"\"\"\n",
    "    h = (b - a)/n\n",
    "    t = a\n",
    "    w = alpha\n",
    "    for i in range(1,n+1):\n",
    "        w = w + h*f(t + h/2,w + h/2 * f(t,w))\n",
    "        t = a + i*h\n",
    "    return [t,w]"
   ]
  },
  {
   "cell_type": "code",
   "execution_count": 271,
   "metadata": {},
   "outputs": [],
   "source": [
    "f = lambda t,y: t*math.exp(3*t)-2*y"
   ]
  },
  {
   "cell_type": "code",
   "execution_count": 272,
   "metadata": {},
   "outputs": [
    {
     "data": {
      "text/plain": [
       "[1.0, 3.1300023058804816]"
      ]
     },
     "execution_count": 272,
     "metadata": {},
     "output_type": "execute_result"
    }
   ],
   "source": [
    "RungeKuttaMidpoint(0,1,2,0)"
   ]
  },
  {
   "cell_type": "code",
   "execution_count": 273,
   "metadata": {},
   "outputs": [],
   "source": [
    "def RungeKuttaOrderFour(a,b,n,alpha):\n",
    "    \"\"\"\n",
    "    INPUT:\n",
    "        endpoints a, b\n",
    "        number of intervals n\n",
    "        initial condition alpha\n",
    "    \n",
    "    OUTPUT:\n",
    "        approximation w to y at n+1 values of t\n",
    "    \"\"\"\n",
    "    h = (b - a)/n\n",
    "    t = a\n",
    "    w = alpha\n",
    "    for i in range(1,n+1):\n",
    "        k1 = h*f(t,w)\n",
    "        k2 = h*f(t+h/2,w+k1/2)\n",
    "        k3 = h*f(t+h/2,w+k2/2)\n",
    "        k4 = h*f(t+h,w+k3)\n",
    "        w = w + (k1 + 2*k2 + 2*k3 + k4)/6\n",
    "        t = a + i*h\n",
    "    return [t,w]"
   ]
  },
  {
   "cell_type": "code",
   "execution_count": 274,
   "metadata": {},
   "outputs": [
    {
     "data": {
      "text/plain": [
       "[1.0, 3.3143117774778457]"
      ]
     },
     "execution_count": 274,
     "metadata": {},
     "output_type": "execute_result"
    }
   ],
   "source": [
    "RungeKuttaOrderFour(0,1,2,0)"
   ]
  }
 ],
 "metadata": {
  "kernelspec": {
   "display_name": "Python 3",
   "language": "python",
   "name": "python3"
  },
  "language_info": {
   "codemirror_mode": {
    "name": "ipython",
    "version": 3
   },
   "file_extension": ".py",
   "mimetype": "text/x-python",
   "name": "python",
   "nbconvert_exporter": "python",
   "pygments_lexer": "ipython3",
   "version": "3.6.5"
  }
 },
 "nbformat": 4,
 "nbformat_minor": 2
}
